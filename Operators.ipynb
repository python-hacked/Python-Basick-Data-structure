{
 "cells": [
  {
   "cell_type": "markdown",
   "id": "842263fe",
   "metadata": {},
   "source": [
    "# Python Arithmetic Operators"
   ]
  },
  {
   "cell_type": "code",
   "execution_count": 14,
   "id": "93928b3b",
   "metadata": {},
   "outputs": [
    {
     "name": "stdout",
     "output_type": "stream",
     "text": [
      "5\n"
     ]
    }
   ],
   "source": [
    "# Addition\n",
    "\n",
    "a = 2\n",
    "b = 3\n",
    "totle = a+b\n",
    "print(totle)"
   ]
  },
  {
   "cell_type": "code",
   "execution_count": 6,
   "id": "46f40a4b",
   "metadata": {},
   "outputs": [
    {
     "name": "stdout",
     "output_type": "stream",
     "text": [
      "-1\n"
     ]
    }
   ],
   "source": [
    "# Subtraction\n",
    "\n",
    "a = 2\n",
    "b = 3\n",
    "totle = a-b\n",
    "print(totle)"
   ]
  },
  {
   "cell_type": "code",
   "execution_count": 8,
   "id": "128ab3d9",
   "metadata": {},
   "outputs": [
    {
     "name": "stdout",
     "output_type": "stream",
     "text": [
      "6\n"
     ]
    }
   ],
   "source": [
    "# Multiplication\n",
    "a = 2\n",
    "b = 3\n",
    "totle = a*b\n",
    "print(totle)\n"
   ]
  },
  {
   "cell_type": "code",
   "execution_count": 9,
   "id": "fd9e8caa",
   "metadata": {},
   "outputs": [
    {
     "name": "stdout",
     "output_type": "stream",
     "text": [
      "0.6666666666666666\n"
     ]
    }
   ],
   "source": [
    "# Divison\n",
    "a = 2\n",
    "b = 3\n",
    "totle = a/b\n",
    "print(totle)"
   ]
  },
  {
   "cell_type": "code",
   "execution_count": 10,
   "id": "c2100128",
   "metadata": {},
   "outputs": [
    {
     "name": "stdout",
     "output_type": "stream",
     "text": [
      "2\n"
     ]
    }
   ],
   "source": [
    "# Modulus\n",
    "a = 2\n",
    "b = 3\n",
    "totle = a%b\n",
    "print(totle)\n"
   ]
  },
  {
   "cell_type": "code",
   "execution_count": 11,
   "id": "1dc34778",
   "metadata": {},
   "outputs": [
    {
     "name": "stdout",
     "output_type": "stream",
     "text": [
      "8\n"
     ]
    }
   ],
   "source": [
    "# Exponent\n",
    "a = 2\n",
    "b = 3\n",
    "totle = a**b\n",
    "print(totle)\n"
   ]
  },
  {
   "cell_type": "code",
   "execution_count": 12,
   "id": "5c7558ce",
   "metadata": {},
   "outputs": [
    {
     "name": "stdout",
     "output_type": "stream",
     "text": [
      "0\n"
     ]
    }
   ],
   "source": [
    "# Floor Division Positive\n",
    "a = 2\n",
    "b = 3\n",
    "totle = a//b\n",
    "print(totle)"
   ]
  },
  {
   "cell_type": "code",
   "execution_count": 13,
   "id": "caad122c",
   "metadata": {},
   "outputs": [
    {
     "name": "stdout",
     "output_type": "stream",
     "text": [
      "-1\n"
     ]
    }
   ],
   "source": [
    "# Floor Division Negative\n",
    "a = -2\n",
    "b = 3\n",
    "totle = a//b\n",
    "print(totle)"
   ]
  },
  {
   "cell_type": "markdown",
   "id": "a5dfaff0",
   "metadata": {},
   "source": [
    "# Python Comparison Operators"
   ]
  },
  {
   "cell_type": "code",
   "execution_count": 15,
   "id": "abee1bb7",
   "metadata": {},
   "outputs": [
    {
     "name": "stdout",
     "output_type": "stream",
     "text": [
      "False\n"
     ]
    }
   ],
   "source": [
    "#Less than\n",
    "a = 5\n",
    "b = 2\n",
    "value = a < b\n",
    "print(value)"
   ]
  },
  {
   "cell_type": "code",
   "execution_count": 16,
   "id": "5e36aac9",
   "metadata": {},
   "outputs": [
    {
     "name": "stdout",
     "output_type": "stream",
     "text": [
      "True\n"
     ]
    }
   ],
   "source": [
    "#Greater than\n",
    "a = 5\n",
    "b = 2\n",
    "value = a > b\n",
    "print(value)"
   ]
  },
  {
   "cell_type": "code",
   "execution_count": 17,
   "id": "e0ff16b1",
   "metadata": {},
   "outputs": [
    {
     "name": "stdout",
     "output_type": "stream",
     "text": [
      "False\n"
     ]
    }
   ],
   "source": [
    "#Less than or equal to\n",
    "a = 5\n",
    "b = 2\n",
    "value = a <= b\n",
    "print(value)"
   ]
  },
  {
   "cell_type": "code",
   "execution_count": 19,
   "id": "b6a39339",
   "metadata": {},
   "outputs": [
    {
     "name": "stdout",
     "output_type": "stream",
     "text": [
      "True\n"
     ]
    }
   ],
   "source": [
    "#Greater than or equal to\n",
    "a = 5\n",
    "b = 2\n",
    "value = a >= b\n",
    "print(value)"
   ]
  },
  {
   "cell_type": "code",
   "execution_count": 20,
   "id": "3b10b7ab",
   "metadata": {},
   "outputs": [
    {
     "name": "stdout",
     "output_type": "stream",
     "text": [
      "False\n"
     ]
    }
   ],
   "source": [
    "#\tEqual\n",
    "a = 5\n",
    "b = 2\n",
    "value = a == b\n",
    "print(value)"
   ]
  },
  {
   "cell_type": "code",
   "execution_count": 21,
   "id": "77293276",
   "metadata": {},
   "outputs": [
    {
     "name": "stdout",
     "output_type": "stream",
     "text": [
      "True\n"
     ]
    }
   ],
   "source": [
    "#\tNot equal\n",
    "a = 5\n",
    "b = 2\n",
    "value = a != b\n",
    "print(value)"
   ]
  },
  {
   "cell_type": "markdown",
   "id": "105ac7b1",
   "metadata": {},
   "source": [
    "# Python Logical Operators"
   ]
  },
  {
   "cell_type": "code",
   "execution_count": 22,
   "id": "8c513762",
   "metadata": {},
   "outputs": [],
   "source": [
    "#\tReturns True if both statements are true\n",
    "a = 5\n",
    "b = 2\n",
    "c = 3\n",
    "d = 200"
   ]
  },
  {
   "cell_type": "code",
   "execution_count": 24,
   "id": "6b1a8f8e",
   "metadata": {},
   "outputs": [
    {
     "name": "stdout",
     "output_type": "stream",
     "text": [
      "False\n"
     ]
    }
   ],
   "source": [
    "print(a<b and b>c)"
   ]
  },
  {
   "cell_type": "code",
   "execution_count": 25,
   "id": "2f9d5a5e",
   "metadata": {},
   "outputs": [
    {
     "name": "stdout",
     "output_type": "stream",
     "text": [
      "False\n"
     ]
    }
   ],
   "source": [
    "print(a>b and a<c)\n"
   ]
  },
  {
   "cell_type": "code",
   "execution_count": 26,
   "id": "b577593b",
   "metadata": {},
   "outputs": [
    {
     "name": "stdout",
     "output_type": "stream",
     "text": [
      "False\n"
     ]
    }
   ],
   "source": [
    "print(a<b and a>c)\n"
   ]
  },
  {
   "cell_type": "code",
   "execution_count": 27,
   "id": "97dc9d62",
   "metadata": {},
   "outputs": [
    {
     "name": "stdout",
     "output_type": "stream",
     "text": [
      "False\n"
     ]
    }
   ],
   "source": [
    "print(a<b and a<c)\n"
   ]
  },
  {
   "cell_type": "code",
   "execution_count": 28,
   "id": "53e81cfd",
   "metadata": {},
   "outputs": [
    {
     "name": "stdout",
     "output_type": "stream",
     "text": [
      "3\n"
     ]
    }
   ],
   "source": [
    "print(a>b and c)\n"
   ]
  },
  {
   "cell_type": "code",
   "execution_count": 29,
   "id": "fb082c0f",
   "metadata": {},
   "outputs": [
    {
     "name": "stdout",
     "output_type": "stream",
     "text": [
      "200\n"
     ]
    }
   ],
   "source": [
    "print(a>b and c and d)\n"
   ]
  },
  {
   "cell_type": "code",
   "execution_count": 30,
   "id": "72eae0db",
   "metadata": {},
   "outputs": [
    {
     "name": "stdout",
     "output_type": "stream",
     "text": [
      "False\n"
     ]
    }
   ],
   "source": [
    "print(a<b and c)\n"
   ]
  },
  {
   "cell_type": "code",
   "execution_count": 31,
   "id": "8412b39a",
   "metadata": {},
   "outputs": [
    {
     "name": "stdout",
     "output_type": "stream",
     "text": [
      "False\n"
     ]
    }
   ],
   "source": [
    "print(a<b and c and d)\n"
   ]
  },
  {
   "cell_type": "code",
   "execution_count": 32,
   "id": "614c4b18",
   "metadata": {},
   "outputs": [],
   "source": [
    "#Returns True if one of the statements is true\n",
    "a = 5\n",
    "b = 2\n",
    "c = 3\n",
    "d = 200"
   ]
  },
  {
   "cell_type": "code",
   "execution_count": 33,
   "id": "7586ec12",
   "metadata": {},
   "outputs": [
    {
     "name": "stdout",
     "output_type": "stream",
     "text": [
      "True\n",
      "True\n",
      "True\n",
      "False\n",
      "True\n",
      "True\n",
      "3\n",
      "3\n"
     ]
    }
   ],
   "source": [
    "print(a>b or a>c)\n",
    "print(a>b or a<c)\n",
    "print(a<b or a>c)\n",
    "print(a<b or a<c)\n",
    "print(a>b or c)\n",
    "print(a>b or c or d)\n",
    "print(a<b or c)\n",
    "print(a<b or c or d)"
   ]
  },
  {
   "cell_type": "markdown",
   "id": "f74d1e77",
   "metadata": {},
   "source": [
    "# Reverse the result, returns False if the result is true"
   ]
  },
  {
   "cell_type": "code",
   "execution_count": 34,
   "id": "696d1726",
   "metadata": {},
   "outputs": [],
   "source": [
    "a = 5\n",
    "b = 2\n",
    "c = 3\n",
    "d = 200"
   ]
  },
  {
   "cell_type": "code",
   "execution_count": 35,
   "id": "d2f5f0c8",
   "metadata": {},
   "outputs": [
    {
     "name": "stdout",
     "output_type": "stream",
     "text": [
      "True\n",
      "False\n"
     ]
    }
   ],
   "source": [
    "print(not(a<b))\n",
    "print(not(a>b))"
   ]
  },
  {
   "cell_type": "markdown",
   "id": "7dbadac0",
   "metadata": {},
   "source": [
    "# Assignment operators"
   ]
  },
  {
   "cell_type": "code",
   "execution_count": 36,
   "id": "bb64689d",
   "metadata": {},
   "outputs": [],
   "source": [
    "a = 10\n",
    "b = 20\n",
    "m = 15"
   ]
  },
  {
   "cell_type": "code",
   "execution_count": 37,
   "id": "51cff7e2",
   "metadata": {},
   "outputs": [
    {
     "name": "stdout",
     "output_type": "stream",
     "text": [
      "30\n"
     ]
    }
   ],
   "source": [
    "y = a + b\n",
    "print(y)"
   ]
  },
  {
   "cell_type": "code",
   "execution_count": 38,
   "id": "b0720e10",
   "metadata": {},
   "outputs": [
    {
     "name": "stdout",
     "output_type": "stream",
     "text": [
      "25\n"
     ]
    }
   ],
   "source": [
    "m+=10\n",
    "print(m)"
   ]
  },
  {
   "cell_type": "code",
   "execution_count": 39,
   "id": "b63d1147",
   "metadata": {},
   "outputs": [
    {
     "name": "stdout",
     "output_type": "stream",
     "text": [
      "15\n"
     ]
    }
   ],
   "source": [
    "\n",
    "m-=10\n",
    "print(m)"
   ]
  },
  {
   "cell_type": "code",
   "execution_count": 40,
   "id": "fdfa6686",
   "metadata": {},
   "outputs": [
    {
     "name": "stdout",
     "output_type": "stream",
     "text": [
      "150\n"
     ]
    }
   ],
   "source": [
    "m*=10\n",
    "print(m)"
   ]
  },
  {
   "cell_type": "code",
   "execution_count": 42,
   "id": "74e08bef",
   "metadata": {},
   "outputs": [
    {
     "name": "stdout",
     "output_type": "stream",
     "text": [
      "15.0\n"
     ]
    }
   ],
   "source": [
    "m/=10\n",
    "print(m)"
   ]
  },
  {
   "cell_type": "code",
   "execution_count": 43,
   "id": "c65fa25e",
   "metadata": {},
   "outputs": [
    {
     "name": "stdout",
     "output_type": "stream",
     "text": [
      "5.0\n"
     ]
    }
   ],
   "source": [
    "m%=10\n",
    "print(m)"
   ]
  },
  {
   "cell_type": "markdown",
   "id": "572020d2",
   "metadata": {},
   "source": [
    "# Python Bitwise Operators"
   ]
  },
  {
   "cell_type": "code",
   "execution_count": 44,
   "id": "89cbcf13",
   "metadata": {},
   "outputs": [
    {
     "name": "stdout",
     "output_type": "stream",
     "text": [
      "~a =  -11\n"
     ]
    }
   ],
   "source": [
    "a = 10\n",
    "b = 20\n",
    "print('~a = ', ~a)\n"
   ]
  },
  {
   "cell_type": "code",
   "execution_count": 45,
   "id": "c945fc0b",
   "metadata": {},
   "outputs": [
    {
     "name": "stdout",
     "output_type": "stream",
     "text": [
      "a&b =  0\n"
     ]
    }
   ],
   "source": [
    "print('a&b = ', a&b)\n"
   ]
  },
  {
   "cell_type": "code",
   "execution_count": 46,
   "id": "ce36a15c",
   "metadata": {},
   "outputs": [
    {
     "name": "stdout",
     "output_type": "stream",
     "text": [
      "a|b =  30\n"
     ]
    }
   ],
   "source": [
    "print('a|b = ', a|b)\n"
   ]
  },
  {
   "cell_type": "code",
   "execution_count": 47,
   "id": "c344da7b",
   "metadata": {},
   "outputs": [
    {
     "name": "stdout",
     "output_type": "stream",
     "text": [
      "a^b =  30\n"
     ]
    }
   ],
   "source": [
    "print('a^b = ', a^b)\n"
   ]
  },
  {
   "cell_type": "code",
   "execution_count": 48,
   "id": "5db985d3",
   "metadata": {},
   "outputs": [
    {
     "name": "stdout",
     "output_type": "stream",
     "text": [
      "a<<2 =  40\n"
     ]
    }
   ],
   "source": [
    "print('a<<2 = ', a<<2)\n"
   ]
  },
  {
   "cell_type": "code",
   "execution_count": 49,
   "id": "160c9daf",
   "metadata": {},
   "outputs": [
    {
     "name": "stdout",
     "output_type": "stream",
     "text": [
      "a>>2 =  2\n"
     ]
    }
   ],
   "source": [
    "print('a>>2 = ', a>>2)\n"
   ]
  },
  {
   "cell_type": "code",
   "execution_count": 6,
   "id": "8b409054",
   "metadata": {},
   "outputs": [
    {
     "name": "stdout",
     "output_type": "stream",
     "text": [
      "enter your number2\n",
      "even number\n"
     ]
    }
   ],
   "source": [
    "number = int(input(\"enter your number\"))\n",
    "if number %2 ==0:\n",
    "    print(\"even number\")\n",
    "else:\n",
    "    print(\"odd number\")"
   ]
  },
  {
   "cell_type": "code",
   "execution_count": 13,
   "id": "b5e7b4f6",
   "metadata": {},
   "outputs": [
    {
     "name": "stdout",
     "output_type": "stream",
     "text": [
      "*\n",
      "**\n",
      "***\n",
      "****\n",
      "*****\n"
     ]
    }
   ],
   "source": [
    "row = 5\n",
    "for i in range(row):\n",
    "    print(\"*\"*(i+1))"
   ]
  },
  {
   "cell_type": "code",
   "execution_count": 19,
   "id": "dccdb46c",
   "metadata": {},
   "outputs": [
    {
     "name": "stdout",
     "output_type": "stream",
     "text": [
      "Enter your Number:5\n",
      "    *\n",
      "    **\n",
      "    ***\n",
      "    ****\n",
      "    *****\n"
     ]
    }
   ],
   "source": [
    "row = int(input('Enter your Number:'))\n",
    "for i in range(1,row+1):\n",
    "    print(\" \"*(row-1)+\"*\"*i)\n"
   ]
  },
  {
   "cell_type": "code",
   "execution_count": null,
   "id": "79f6137c",
   "metadata": {},
   "outputs": [],
   "source": []
  }
 ],
 "metadata": {
  "kernelspec": {
   "display_name": "Python 3 (ipykernel)",
   "language": "python",
   "name": "python3"
  },
  "language_info": {
   "codemirror_mode": {
    "name": "ipython",
    "version": 3
   },
   "file_extension": ".py",
   "mimetype": "text/x-python",
   "name": "python",
   "nbconvert_exporter": "python",
   "pygments_lexer": "ipython3",
   "version": "3.10.10"
  }
 },
 "nbformat": 4,
 "nbformat_minor": 5
}
